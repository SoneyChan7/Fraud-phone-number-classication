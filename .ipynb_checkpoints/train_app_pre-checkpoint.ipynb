{
 "cells": [
  {
   "cell_type": "code",
   "execution_count": 64,
   "metadata": {},
   "outputs": [],
   "source": [
    "import pandas as pd\n",
    "import numpy as np"
   ]
  },
  {
   "cell_type": "code",
   "execution_count": 65,
   "metadata": {},
   "outputs": [],
   "source": [
    "train_app = pd.read_csv('../train/train_app.csv', encoding='utf-8')\n",
    "test_app = pd.read_csv('../test/test_app.csv', encoding='utf-8')"
   ]
  },
  {
   "cell_type": "code",
   "execution_count": 66,
   "metadata": {},
   "outputs": [],
   "source": [
    "train_app['month_id'] = train_app['month_id'].fillna(method='bfill')\n",
    "train_app_3 = train_app[train_app['month_id']=='2020-03']"
   ]
  },
  {
   "cell_type": "code",
   "execution_count": 67,
   "metadata": {},
   "outputs": [],
   "source": [
    "test_app['month_id'] = test_app['month_id'].fillna(method='bfill')"
   ]
  },
  {
   "cell_type": "code",
   "execution_count": 68,
   "metadata": {},
   "outputs": [],
   "source": [
    "app_df = pd.concat([train_app_3, test_app], axis = 0)"
   ]
  },
  {
   "cell_type": "code",
   "execution_count": 69,
   "metadata": {},
   "outputs": [
    {
     "data": {
      "text/html": [
       "<div>\n",
       "<style scoped>\n",
       "    .dataframe tbody tr th:only-of-type {\n",
       "        vertical-align: middle;\n",
       "    }\n",
       "\n",
       "    .dataframe tbody tr th {\n",
       "        vertical-align: top;\n",
       "    }\n",
       "\n",
       "    .dataframe thead th {\n",
       "        text-align: right;\n",
       "    }\n",
       "</style>\n",
       "<table border=\"1\" class=\"dataframe\">\n",
       "  <thead>\n",
       "    <tr style=\"text-align: right;\">\n",
       "      <th></th>\n",
       "      <th>phone_no_m</th>\n",
       "      <th>busi_name</th>\n",
       "      <th>flow</th>\n",
       "      <th>month_id</th>\n",
       "    </tr>\n",
       "  </thead>\n",
       "  <tbody>\n",
       "    <tr>\n",
       "      <td>11087</td>\n",
       "      <td>229a0f324de3c54b4cc4c82dafbf78ee5874fe491e4d9a...</td>\n",
       "      <td>NaN</td>\n",
       "      <td>125.060604</td>\n",
       "      <td>2020-03</td>\n",
       "    </tr>\n",
       "    <tr>\n",
       "      <td>11095</td>\n",
       "      <td>229a0f324de3c54b4cc4c82dafbf78ee5874fe491e4d9a...</td>\n",
       "      <td>QQ</td>\n",
       "      <td>7.247598</td>\n",
       "      <td>2020-03</td>\n",
       "    </tr>\n",
       "    <tr>\n",
       "      <td>11103</td>\n",
       "      <td>229a0f324de3c54b4cc4c82dafbf78ee5874fe491e4d9a...</td>\n",
       "      <td>旺信</td>\n",
       "      <td>0.008341</td>\n",
       "      <td>2020-03</td>\n",
       "    </tr>\n",
       "    <tr>\n",
       "      <td>11111</td>\n",
       "      <td>229a0f324de3c54b4cc4c82dafbf78ee5874fe491e4d9a...</td>\n",
       "      <td>微信</td>\n",
       "      <td>584.027821</td>\n",
       "      <td>2020-03</td>\n",
       "    </tr>\n",
       "    <tr>\n",
       "      <td>11130</td>\n",
       "      <td>229a0f324de3c54b4cc4c82dafbf78ee5874fe491e4d9a...</td>\n",
       "      <td>起点读书</td>\n",
       "      <td>5.342432</td>\n",
       "      <td>2020-03</td>\n",
       "    </tr>\n",
       "    <tr>\n",
       "      <td>...</td>\n",
       "      <td>...</td>\n",
       "      <td>...</td>\n",
       "      <td>...</td>\n",
       "      <td>...</td>\n",
       "    </tr>\n",
       "    <tr>\n",
       "      <td>129448</td>\n",
       "      <td>dde53a8d1df38164fc37e274ad7bafd9a85b515a68b7f8...</td>\n",
       "      <td>oppo应用商店</td>\n",
       "      <td>0.086297</td>\n",
       "      <td>2020-04</td>\n",
       "    </tr>\n",
       "    <tr>\n",
       "      <td>129449</td>\n",
       "      <td>e79ca3f725672a548ddb365746621e7f6fbd0b56798315...</td>\n",
       "      <td>NaN</td>\n",
       "      <td>0.000000</td>\n",
       "      <td>2020-04</td>\n",
       "    </tr>\n",
       "    <tr>\n",
       "      <td>129450</td>\n",
       "      <td>4dbbb1234ae86d3bb3e6ec490a3af338b3c1f977ae280e...</td>\n",
       "      <td>NaN</td>\n",
       "      <td>0.000000</td>\n",
       "      <td>2020-04</td>\n",
       "    </tr>\n",
       "    <tr>\n",
       "      <td>129451</td>\n",
       "      <td>82d9bf91308a6abdcee6cc251acaec7e139c65892fd37f...</td>\n",
       "      <td>NaN</td>\n",
       "      <td>0.000000</td>\n",
       "      <td>2020-04</td>\n",
       "    </tr>\n",
       "    <tr>\n",
       "      <td>129452</td>\n",
       "      <td>1a34d8ff23532eafc1180ee2cbfb9a76b961b92fed5551...</td>\n",
       "      <td>NaN</td>\n",
       "      <td>0.000335</td>\n",
       "      <td>2020-04</td>\n",
       "    </tr>\n",
       "  </tbody>\n",
       "</table>\n",
       "<p>512167 rows × 4 columns</p>\n",
       "</div>"
      ],
      "text/plain": [
       "                                               phone_no_m busi_name  \\\n",
       "11087   229a0f324de3c54b4cc4c82dafbf78ee5874fe491e4d9a...       NaN   \n",
       "11095   229a0f324de3c54b4cc4c82dafbf78ee5874fe491e4d9a...        QQ   \n",
       "11103   229a0f324de3c54b4cc4c82dafbf78ee5874fe491e4d9a...        旺信   \n",
       "11111   229a0f324de3c54b4cc4c82dafbf78ee5874fe491e4d9a...        微信   \n",
       "11130   229a0f324de3c54b4cc4c82dafbf78ee5874fe491e4d9a...      起点读书   \n",
       "...                                                   ...       ...   \n",
       "129448  dde53a8d1df38164fc37e274ad7bafd9a85b515a68b7f8...  oppo应用商店   \n",
       "129449  e79ca3f725672a548ddb365746621e7f6fbd0b56798315...       NaN   \n",
       "129450  4dbbb1234ae86d3bb3e6ec490a3af338b3c1f977ae280e...       NaN   \n",
       "129451  82d9bf91308a6abdcee6cc251acaec7e139c65892fd37f...       NaN   \n",
       "129452  1a34d8ff23532eafc1180ee2cbfb9a76b961b92fed5551...       NaN   \n",
       "\n",
       "              flow month_id  \n",
       "11087   125.060604  2020-03  \n",
       "11095     7.247598  2020-03  \n",
       "11103     0.008341  2020-03  \n",
       "11111   584.027821  2020-03  \n",
       "11130     5.342432  2020-03  \n",
       "...            ...      ...  \n",
       "129448    0.086297  2020-04  \n",
       "129449    0.000000  2020-04  \n",
       "129450    0.000000  2020-04  \n",
       "129451    0.000000  2020-04  \n",
       "129452    0.000335  2020-04  \n",
       "\n",
       "[512167 rows x 4 columns]"
      ]
     },
     "execution_count": 69,
     "metadata": {},
     "output_type": "execute_result"
    }
   ],
   "source": [
    "app_df"
   ]
  },
  {
   "cell_type": "code",
   "execution_count": 70,
   "metadata": {},
   "outputs": [],
   "source": [
    "# app_df['month_id'] = app_df['month_id'].fillna(method='bfill')"
   ]
  },
  {
   "cell_type": "code",
   "execution_count": 71,
   "metadata": {},
   "outputs": [],
   "source": [
    "groups = app_df.groupby(by = ['phone_no_m'])"
   ]
  },
  {
   "cell_type": "code",
   "execution_count": 72,
   "metadata": {},
   "outputs": [],
   "source": [
    "flow = groups['flow'].agg(np.sum).values\n",
    "app_unique = groups['busi_name'].agg('nunique').values\n",
    "flow_null = (flow<=10).astype(np.int64)\n",
    "flow_min = groups['flow'].agg(np.min).values\n",
    "flow_mean = groups['flow'].agg(np.mean).values\n",
    "flow_max = groups['flow'].agg(np.max).values\n",
    "months = groups['month_id'].agg(lambda x : len(x.value_counts())).values\n",
    "# flow_per_month = flow/ months\n",
    "flow_per_app = flow/(app_unique + 1)"
   ]
  },
  {
   "cell_type": "code",
   "execution_count": 73,
   "metadata": {},
   "outputs": [],
   "source": [
    "app_list = app_df['busi_name'].value_counts()[app_df['busi_name'].value_counts().values >100].index.tolist()"
   ]
  },
  {
   "cell_type": "code",
   "execution_count": 74,
   "metadata": {},
   "outputs": [
    {
     "data": {
      "text/plain": [
       "543"
      ]
     },
     "execution_count": 74,
     "metadata": {},
     "output_type": "execute_result"
    }
   ],
   "source": [
    "len(app_list)"
   ]
  },
  {
   "cell_type": "code",
   "execution_count": 75,
   "metadata": {},
   "outputs": [],
   "source": [
    "temp_df = pd.DataFrame()\n",
    "for app in app_list:\n",
    "    temp_df[app] = groups['busi_name'].agg(lambda x : (app in x.tolist())).values.astype(np.int64)"
   ]
  },
  {
   "cell_type": "code",
   "execution_count": 76,
   "metadata": {},
   "outputs": [],
   "source": [
    "new_df = pd.DataFrame()\n",
    "new_df['phone_no_m'] = groups.groups.keys()\n",
    "new_df['flow'] = flow\n",
    "new_df['flow_null'] = flow_null\n",
    "new_df['flow_min'] = flow_min\n",
    "new_df['flow_mean'] = flow_mean\n",
    "new_df['flow_max'] = flow_max\n",
    "new_df['flow_per_month'] = flow_per_month\n",
    "new_df['flow_per_app'] = flow_per_app\n",
    "new_df['app_unique'] = app_unique"
   ]
  },
  {
   "cell_type": "code",
   "execution_count": 77,
   "metadata": {},
   "outputs": [],
   "source": [
    "new_df = pd.concat([new_df, temp_df],axis = 1)"
   ]
  },
  {
   "cell_type": "code",
   "execution_count": 78,
   "metadata": {},
   "outputs": [],
   "source": [
    "new_df.to_csv('./app_submit.csv', encoding='utf-8', index = None)"
   ]
  },
  {
   "cell_type": "code",
   "execution_count": null,
   "metadata": {},
   "outputs": [],
   "source": []
  }
 ],
 "metadata": {
  "kernelspec": {
   "display_name": "Python 3",
   "language": "python",
   "name": "python3"
  },
  "language_info": {
   "codemirror_mode": {
    "name": "ipython",
    "version": 3
   },
   "file_extension": ".py",
   "mimetype": "text/x-python",
   "name": "python",
   "nbconvert_exporter": "python",
   "pygments_lexer": "ipython3",
   "version": "3.7.3"
  }
 },
 "nbformat": 4,
 "nbformat_minor": 4
}
