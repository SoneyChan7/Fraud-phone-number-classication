{
 "cells": [
  {
   "cell_type": "code",
   "execution_count": 86,
   "metadata": {},
   "outputs": [],
   "source": [
    "import numpy as np\n",
    "import pandas as pd\n",
    "import matplotlib.pyplot as plt\n",
    "from scipy import stats\n",
    "import time\n",
    "from sklearn.preprocessing import LabelEncoder"
   ]
  },
  {
   "cell_type": "code",
   "execution_count": 87,
   "metadata": {},
   "outputs": [
    {
     "name": "stderr",
     "output_type": "stream",
     "text": [
      "F:\\Anaconda3\\lib\\site-packages\\IPython\\core\\interactiveshell.py:3058: DtypeWarning: Columns (5,6) have mixed types. Specify dtype option on import or set low_memory=False.\n",
      "  interactivity=interactivity, compiler=compiler, result=result)\n"
     ]
    }
   ],
   "source": [
    "train_voc = pd.read_csv('../train/train_voc.csv',encoding = 'utf-8')\n",
    "test_voc = pd.read_csv('../test/test_voc.csv',encoding = 'utf-8')"
   ]
  },
  {
   "cell_type": "code",
   "execution_count": 88,
   "metadata": {},
   "outputs": [],
   "source": [
    "train_voc[\"start_datetime\"] = pd.to_datetime(train_voc['start_datetime'])\n",
    "train_voc[\"hour\"] = train_voc['start_datetime'].dt.hour\n",
    "train_voc[\"day\"] = train_voc['start_datetime'].dt.day\n",
    "train_voc['month'] = train_voc['start_datetime'].dt.month\n",
    "train_voc['start_datetime_shift'] = train_voc['start_datetime'].shift(-1)"
   ]
  },
  {
   "cell_type": "code",
   "execution_count": 89,
   "metadata": {},
   "outputs": [],
   "source": [
    "test_voc[\"start_datetime\"] = pd.to_datetime(test_voc['start_datetime'])\n",
    "test_voc[\"hour\"] = test_voc['start_datetime'].dt.hour\n",
    "test_voc[\"day\"] = test_voc['start_datetime'].dt.day\n",
    "test_voc['month'] = test_voc['start_datetime'].dt.month\n",
    "test_voc['start_datetime_shift'] = test_voc['start_datetime'].shift(-1)"
   ]
  },
  {
   "cell_type": "code",
   "execution_count": 90,
   "metadata": {},
   "outputs": [],
   "source": [
    "train_voc_3 = train_voc[train_voc['month']==3]"
   ]
  },
  {
   "cell_type": "code",
   "execution_count": 91,
   "metadata": {},
   "outputs": [],
   "source": [
    "df_voc = pd.concat([train_voc_3,test_voc], axis = 0).reset_index(drop = True)\n",
    "\n",
    "df_voc['voc_city_null'] = df_voc['city_name'].isnull().astype(np.int64)\n",
    "\n",
    "df_voc = pd.concat([df_voc,pd.get_dummies(df_voc['calltype_id'],prefix = 'call_type')],axis = 1)\n",
    "\n",
    "# phone =df_voc['phone_no_m'].drop_duplicates().tolist()\n",
    "df_voc[['city_name','county_name']] = df_voc[['city_name','county_name']].fillna('缺失')"
   ]
  },
  {
   "cell_type": "code",
   "execution_count": 92,
   "metadata": {},
   "outputs": [],
   "source": [
    "phone_no_m = df_voc[['phone_no_m']].copy()\n",
    "phone_no_m = phone_no_m.drop_duplicates(subset = ['phone_no_m'], keep = 'last')"
   ]
  },
  {
   "cell_type": "code",
   "execution_count": 93,
   "metadata": {},
   "outputs": [],
   "source": [
    "#对话人数和对话次数\n",
    "temp = df_voc.groupby('phone_no_m')['opposite_no_m'].agg(\n",
    "    voc_opposite_count = 'count',\n",
    "    voc_opposite_unique = 'nunique',\n",
    "    voc_opposite_mean = lambda x : x.value_counts().mean(), \n",
    "    voc_opposite_max = lambda x: x.value_counts().max())\n",
    "phone_no_m = phone_no_m.merge(temp, on = 'phone_no_m', how = 'left')"
   ]
  },
  {
   "cell_type": "code",
   "execution_count": 94,
   "metadata": {},
   "outputs": [],
   "source": [
    "# 主叫通话\n",
    "df_call = df_voc[df_voc['calltype_id'] == 1].copy()\n",
    "temp = df_call.groupby('phone_no_m')['imei_m'].agg(\n",
    "    voc_calltype_1 = 'count',\n",
    "    voc_imeis = 'nunique')\n",
    "phone_no_m = phone_no_m.merge(temp, on=\"phone_no_m\", how=\"left\")\n",
    "phone_no_m[\"voc_calltype1_per_oppo\"] = phone_no_m[\"voc_calltype_1\"] / (phone_no_m[\"voc_opposite_count\"])\n",
    "temp = df_call.groupby(\"phone_no_m\")[\"city_name\"].agg(voc_city_unique=\"nunique\")\n",
    "phone_no_m = phone_no_m.merge(temp, on=\"phone_no_m\", how=\"left\")\n",
    "temp = df_call.groupby(\"phone_no_m\")[\"county_name\"].agg(voc_county_unique=\"nunique\")\n",
    "phone_no_m = phone_no_m.merge(temp, on=\"phone_no_m\", how=\"left\")"
   ]
  },
  {
   "cell_type": "code",
   "execution_count": 95,
   "metadata": {},
   "outputs": [],
   "source": [
    "# 通话时长\n",
    "voc_month_count = df_voc.groupby('phone_no_m')['month'].agg(lambda x : len(x.value_counts())).values\n",
    "temp = df_voc.groupby('phone_no_m')['call_dur'].agg(\n",
    "    call_dur_mean = 'mean',\n",
    "    call_dur_min = 'min',\n",
    "    call_dur_sum = 'sum',\n",
    "    call_dur_max = 'max',\n",
    "    call_dur_std = 'std',\n",
    "#     call_dur_var = 'var',\n",
    "#     call_dur_median = 'median'\n",
    ")\n",
    "phone_no_m = phone_no_m.merge(temp, on = 'phone_no_m', how = 'left')\n",
    "phone_no_m['call_dur_per_month'] = phone_no_m['call_dur_sum'] / voc_month_count"
   ]
  },
  {
   "cell_type": "code",
   "execution_count": 96,
   "metadata": {},
   "outputs": [],
   "source": [
    "#和固定通话者的对话统计\n",
    "tmp = df_voc.groupby([\"phone_no_m\",\"opposite_no_m\"])[\"call_dur\"].agg(count=\"count\", sum=\"sum\")\n",
    "phone2opposite = tmp.groupby(\"phone_no_m\")[\"count\"].agg(phone2opposite_mean=\"mean\", phone2opposite_median=\"median\", phone2opposite_max=\"max\")\n",
    "phone_no_m = phone_no_m.merge(phone2opposite, on=\"phone_no_m\", how=\"left\")\n",
    "phone2opposite = tmp.groupby(\"phone_no_m\")[\"sum\"].agg(phone2oppo_sum_mean=\"mean\", phone2oppo_sum_median=\"median\", phone2oppo_sum_max=\"max\")\n",
    "phone_no_m = phone_no_m.merge(phone2opposite, on=\"phone_no_m\", how=\"left\")\n"
   ]
  },
  {
   "cell_type": "code",
   "execution_count": 97,
   "metadata": {},
   "outputs": [],
   "source": [
    "## 通话类型计数\n",
    "temp = df_voc.groupby('phone_no_m')['calltype_id'].agg(\n",
    "    call_type1_count = lambda x : (x == 1).sum(),\n",
    "    call_type2_count = lambda x: (x==2).sum(),\n",
    "    call_type3_count = lambda x : (x==3).sum(),\n",
    "    call_called_rate = lambda x : ((x == 1).sum() + 1)/((x==2).sum() + 1)\n",
    ")\n",
    "phone_no_m = phone_no_m.merge(temp, on = 'phone_no_m', how = 'left')"
   ]
  },
  {
   "cell_type": "code",
   "execution_count": 98,
   "metadata": {},
   "outputs": [],
   "source": [
    "## 通话位置\n",
    "temp = df_voc.groupby('phone_no_m')['city_name'].agg(voc_city = lambda x: x.value_counts().index[0],\n",
    "                                                    callout_city_unique = 'nunique')\n",
    "phone_no_m = phone_no_m.merge(temp, on=\"phone_no_m\", how=\"left\")\n",
    "temp = df_voc.groupby('phone_no_m')['county_name'].agg(voc_county = lambda x: x.value_counts().index[0],\n",
    "                                                      callout_county_unique = 'nunique')\n",
    "phone_no_m = phone_no_m.merge(temp, on=\"phone_no_m\", how=\"left\")"
   ]
  },
  {
   "cell_type": "code",
   "execution_count": 99,
   "metadata": {},
   "outputs": [],
   "source": [
    "## 通话时间习惯\n",
    "temp = df_voc.groupby('phone_no_m')['hour'].agg(voc_hour_mode = lambda x:stats.mode(x)[0][0], voc_hour_mode_count = lambda x:stats.mode(x)[1][0], voc_hour_count = 'nunique', voc_hour_kurt = lambda x:x.kurt(), voc_hour_skew = lambda x:x.skew())\n",
    "phone_no_m = phone_no_m.merge(temp, on = 'phone_no_m', how = 'left')\n",
    "temp = df_voc.groupby('phone_no_m')['day'].agg(voc_day_mode = lambda x:stats.mode(x)[0][0], voc_day_mode_count = lambda x:stats.mode(x)[1][0], voc_day_count = 'nunique', voc_day_kurt = lambda x:x.kurt(), voc_day_skew = lambda x:x.skew())\n",
    "phone_no_m = phone_no_m.merge(temp, on = 'phone_no_m', how = 'left')"
   ]
  },
  {
   "cell_type": "code",
   "execution_count": 100,
   "metadata": {},
   "outputs": [],
   "source": [
    "temp = pd.DataFrame(df_voc.groupby('phone_no_m').apply(lambda x :np.min((x['start_datetime_shift'] - x['start_datetime']).apply(lambda x:x.seconds))),columns = ['voc_min_sep'])\n",
    "phone_no_m = phone_no_m.merge(temp, on = 'phone_no_m', how = 'left')\n",
    "# temp = pd.DataFrame(df_voc.groupby('phone_no_m').apply(lambda x : np.max((x['start_datetime_shift'] - x['start_datetime']).apply(lambda x:x.seconds))))\n",
    "# phone_no_m = phone_no_m.merge(temp, on = 'phone_no_m', how = 'left')\n",
    "temp = pd.DataFrame(df_voc.groupby('phone_no_m').apply(lambda x : np.min((x['start_datetime_shift'] - x['start_datetime']).apply(lambda x : x.seconds) < 60)),columns=['voc_min_sep_low'])\n",
    "phone_no_m = phone_no_m.merge(temp, on = 'phone_no_m', how = 'left')\n",
    "temp = pd.DataFrame(df_voc.groupby('phone_no_m').apply(lambda x : np.min((x['start_datetime_shift'] - x['start_datetime']).apply(lambda x : x.seconds) > 1800)),columns=['voc_min_sep_high'])\n",
    "phone_no_m = phone_no_m.merge(temp, on = 'phone_no_m', how = 'left')\n",
    "\n",
    "\n",
    "\n",
    "\n"
   ]
  },
  {
   "cell_type": "code",
   "execution_count": 101,
   "metadata": {},
   "outputs": [],
   "source": [
    "new_df = phone_no_m"
   ]
  },
  {
   "cell_type": "code",
   "execution_count": 102,
   "metadata": {},
   "outputs": [],
   "source": [
    "# 对城市和区LabelEncoder\n",
    "# le = LabelEncoder()\n",
    "# for feature in ['voc_city','voc_county']:\n",
    "#     new_df[feature] = le.fit_transform(new_df[feature])\n",
    "# 对城市和区one_hot encoding\n",
    "new_df = pd.concat([new_df,pd.get_dummies(new_df[['voc_city','voc_county']])],axis=1)\n",
    "new_df.drop(['voc_city','voc_county'], axis = 1, inplace = True)"
   ]
  },
  {
   "cell_type": "code",
   "execution_count": 105,
   "metadata": {},
   "outputs": [],
   "source": [
    "new_df.to_csv('./voc_submit.csv',encoding='utf-8',index=None)"
   ]
  },
  {
   "cell_type": "code",
   "execution_count": null,
   "metadata": {},
   "outputs": [],
   "source": []
  }
 ],
 "metadata": {
  "kernelspec": {
   "display_name": "Python 3",
   "language": "python",
   "name": "python3"
  },
  "language_info": {
   "codemirror_mode": {
    "name": "ipython",
    "version": 3
   },
   "file_extension": ".py",
   "mimetype": "text/x-python",
   "name": "python",
   "nbconvert_exporter": "python",
   "pygments_lexer": "ipython3",
   "version": "3.7.3"
  }
 },
 "nbformat": 4,
 "nbformat_minor": 4
}
